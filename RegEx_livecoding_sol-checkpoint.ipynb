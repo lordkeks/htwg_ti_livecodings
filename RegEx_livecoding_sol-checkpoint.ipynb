{
 "cells": [
  {
   "cell_type": "markdown",
   "metadata": {},
   "source": [
    "# Live Coding: Regular Expressions"
   ]
  },
  {
   "cell_type": "code",
   "execution_count": 11,
   "metadata": {},
   "outputs": [],
   "source": [
    "import re"
   ]
  },
  {
   "cell_type": "markdown",
   "metadata": {},
   "source": [
    "### 1) Suche nach Substring\n",
    "Finde \"Wetter\" in \"Heute ist das Wetter in Konstanz sehr gut.\"."
   ]
  },
  {
   "cell_type": "code",
   "execution_count": 50,
   "metadata": {},
   "outputs": [
    {
     "name": "stdout",
     "output_type": "stream",
     "text": [
      "<re.Match object; span=(14, 20), match='Wetter'>\n"
     ]
    }
   ],
   "source": [
    "text = \"Heute ist das Wetter in Konstanz sehr gut.\"\n",
    "print(re.search(\"Wetter\", text))"
   ]
  },
  {
   "cell_type": "markdown",
   "metadata": {},
   "source": [
    "### 2) Suche nach Substrings mit bestimmtem Anfang und Ende\n",
    "Finde \"Wetter in Konstanz\" in \"Heute ist das Wetter in Konstanz sehr gut.\", ohne \"in\" zu verwenden."
   ]
  },
  {
   "cell_type": "code",
   "execution_count": 51,
   "metadata": {},
   "outputs": [
    {
     "name": "stdout",
     "output_type": "stream",
     "text": [
      "<re.Match object; span=(14, 32), match='Wetter in Konstanz'>\n"
     ]
    }
   ],
   "source": [
    "print(re.search(\"Wetter.*Konstanz\", text))"
   ]
  },
  {
   "cell_type": "code",
   "execution_count": 54,
   "metadata": {},
   "outputs": [
    {
     "name": "stdout",
     "output_type": "stream",
     "text": [
      "None\n"
     ]
    }
   ],
   "source": [
    "# Und wie sieht's mit Zeilenumbrüchen aus?\n",
    "text = \"Heute ist das Wetter\\nin Konstanz sehr gut.\"\n",
    "print(re.search(\"Wetter.*Konstanz\", text))"
   ]
  },
  {
   "cell_type": "code",
   "execution_count": 55,
   "metadata": {},
   "outputs": [
    {
     "name": "stdout",
     "output_type": "stream",
     "text": [
      "<re.Match object; span=(14, 32), match='Wetter\\nin Konstanz'>\n"
     ]
    }
   ],
   "source": [
    "print(re.search(\"Wetter[\\S\\s]*Konstanz\", text))"
   ]
  },
  {
   "cell_type": "markdown",
   "metadata": {},
   "source": [
    "### 3) Überprüfen von Strings\n",
    "Überprüfe ob eine IP gültig ist."
   ]
  },
  {
   "cell_type": "code",
   "execution_count": 56,
   "metadata": {},
   "outputs": [
    {
     "data": {
      "text/plain": [
       "<re.Match object; span=(0, 11), match='192.168.1.0'>"
      ]
     },
     "execution_count": 56,
     "metadata": {},
     "output_type": "execute_result"
    }
   ],
   "source": [
    "ip = \"192.168.1.0\"\n",
    "re.match(\"(([0-9]|[1-9][0-9]|1[0-9]{2}|2[0-4][0-9]|25[0-5])\\.){3}([0-9]|[1-9][0-9]|1[0-9]{2}|2[0-4][0-9]|25[0-5])\", ip)"
   ]
  },
  {
   "cell_type": "markdown",
   "metadata": {},
   "source": [
    "### 4) Strings ersetzen\n",
    "Ersetze CamelCase durch snake_case."
   ]
  },
  {
   "cell_type": "code",
   "execution_count": 68,
   "metadata": {},
   "outputs": [
    {
     "name": "stdout",
     "output_type": "stream",
     "text": [
      "('h', 'Kann')\n",
      "[('h', 'Kann'), ('s', 'Ist'), ('n', 'Parameter'), ('s', 'Ist'), ('n', 'Parameter')]\n"
     ]
    }
   ],
   "source": [
    "text = \"\"\"def ichKannPython(dasIstEinParameter):\n",
    "    return dasIstEinParameter + 5\"\"\"\n",
    "\n",
    "print(re.search('(.)([A-Z][a-z]+)', text).groups())\n",
    "\n",
    "print(re.findall('(.)([A-Z][a-z]+)', text))"
   ]
  },
  {
   "cell_type": "code",
   "execution_count": 70,
   "metadata": {},
   "outputs": [
    {
     "name": "stdout",
     "output_type": "stream",
     "text": [
      "def ich_kann_python(das_ist_ein_parameter):\n",
      "    return das_ist_ein_parameter + 5\n"
     ]
    }
   ],
   "source": [
    "tmp = re.sub('(.)([A-Z][a-z]+)', r'\\1_\\2', text)\n",
    "print(re.sub('([a-z0-9])([A-Z])', r'\\1_\\2', tmp).lower())"
   ]
  },
  {
   "cell_type": "markdown",
   "metadata": {},
   "source": [
    "### 5) Finde URLs in einem String\n",
    "Finde alle URLs in einem Text"
   ]
  },
  {
   "cell_type": "code",
   "execution_count": 76,
   "metadata": {},
   "outputs": [
    {
     "name": "stdout",
     "output_type": "stream",
     "text": [
      "['https://stackoverflow.com/', 'http://github.com', 'http://www.doenerreport.de']\n"
     ]
    }
   ],
   "source": [
    "text = '''\n",
    "<body>\n",
    "  <div>\n",
    "    Diese Seiten sollte man kennen:</br>\n",
    "    <a href=\"https://stackoverflow.com/\">StackOverflow</a></br>\n",
    "    <a href=\"http://github.com\">GitHub</a></br>\n",
    "    <a href=\"https://www.doenerreport.de\">Werbung</a></br>\n",
    "  </div>\n",
    "</body>'''\n",
    "\n",
    "print(re.findall('http[s]?://(?:[a-zA-Z]|[0-9]|[$-_@.&+]|[!*\\(\\),]|(?:%[0-9a-fA-F][0-9a-fA-F]))+', text))"
   ]
  },
  {
   "cell_type": "code",
   "execution_count": null,
   "metadata": {},
   "outputs": [],
   "source": []
  }
 ],
 "metadata": {
  "kernelspec": {
   "display_name": "Python 3",
   "language": "python",
   "name": "python3"
  },
  "language_info": {
   "codemirror_mode": {
    "name": "ipython",
    "version": 3
   },
   "file_extension": ".py",
   "mimetype": "text/x-python",
   "name": "python",
   "nbconvert_exporter": "python",
   "pygments_lexer": "ipython3",
   "version": "3.8.5"
  }
 },
 "nbformat": 4,
 "nbformat_minor": 4
}
